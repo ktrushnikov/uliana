{
 "metadata": {
  "language_info": {
   "codemirror_mode": {
    "name": "ipython",
    "version": 3
   },
   "file_extension": ".py",
   "mimetype": "text/x-python",
   "name": "python",
   "nbconvert_exporter": "python",
   "pygments_lexer": "ipython3",
   "version": "3.7.3-final"
  },
  "orig_nbformat": 2,
  "kernelspec": {
   "name": "python3",
   "display_name": "Python 3.7.3 64-bit ('anaconda3': virtualenv)",
   "metadata": {
    "interpreter": {
     "hash": "316b9b4aa77f236356663515697bd59095dc269f98f53709b3844fac689de624"
    }
   }
  }
 },
 "nbformat": 4,
 "nbformat_minor": 2,
 "cells": [
  {
   "cell_type": "code",
   "execution_count": 29,
   "metadata": {},
   "outputs": [
    {
     "output_type": "stream",
     "name": "stdout",
     "text": [
      "0 -\n1 -\n2 ++\n3 -\n4 ++\n5 -\n6 -\n7 -\n8 -\n9 -\n10 -\n"
     ]
    }
   ],
   "source": [
    "for i in range(0,11):\n",
    "    print(i, end='')\n",
    "    if i == 2 or i==4:\n",
    "        print(\" ++\")\n",
    "        \n",
    "    else:\n",
    "        print(\" -\")     "
   ]
  },
  {
   "cell_type": "code",
   "execution_count": null,
   "metadata": {},
   "outputs": [],
   "source": []
  }
 ]
}