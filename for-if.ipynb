{
 "cells": [
  {
   "cell_type": "code",
   "execution_count": 11,
   "metadata": {},
   "outputs": [
    {
     "name": "stdout",
     "output_type": "stream",
     "text": [
      "0\n",
      "1\n",
      "2 ++\n",
      "3\n",
      "4 ++++\n",
      "5\n",
      "6\n",
      "7\n",
      "8\n",
      "9\n",
      "10\n"
     ]
    }
   ],
   "source": [
    "for i in range(0,11):\n",
    "    print(i, end='')\n",
    "    if i == 2:\n",
    "        print(\" ++\")\n",
    "    elif i==4:\n",
    "        print(\" ++++\")\n",
    "    else:\n",
    "        print()     "
   ]
  },
  {
   "cell_type": "code",
   "execution_count": 30,
   "metadata": {},
   "outputs": [
    {
     "name": "stdout",
     "output_type": "stream",
     "text": [
      "0\n",
      "1+\n",
      "2++\n",
      "3+++\n",
      "4++++\n",
      "5+++++\n",
      "6++++++\n",
      "7+++++++\n",
      "8++++++++\n",
      "9+++++++++\n",
      "10++++++++++\n",
      "11+++++++++++\n",
      "12++++++++++++\n",
      "13+++++++++++++\n",
      "14++++++++++++++\n",
      "15+++++++++++++++\n",
      "16++++++++++++++++\n",
      "17+++++++++++++++++\n",
      "18++++++++++++++++++\n",
      "19+++++++++++++++++++\n",
      "20++++++++++++++++++++\n",
      "21+++++++++++++++++++++\n",
      "22++++++++++++++++++++++\n",
      "23+++++++++++++++++++++++\n",
      "24++++++++++++++++++++++++\n",
      "25+++++++++++++++++++++++++\n"
     ]
    }
   ],
   "source": [
    "for x in range(0,26):\n",
    "    print(x, end='')\n",
    "    for y in range(0,x):\n",
    "        print(\"+\", end='')\n",
    "    print()"
   ]
  }
 ],
 "metadata": {
  "interpreter": {
   "hash": "31f2aee4e71d21fbe5cf8b01ff0e069b9275f58929596ceb00d14d90e3e16cd6"
  },
  "kernelspec": {
   "display_name": "Python 3.8.10 64-bit",
   "language": "python",
   "name": "python3"
  },
  "language_info": {
   "codemirror_mode": {
    "name": "ipython",
    "version": 3
   },
   "file_extension": ".py",
   "mimetype": "text/x-python",
   "name": "python",
   "nbconvert_exporter": "python",
   "pygments_lexer": "ipython3",
   "version": "3.8.10"
  },
  "orig_nbformat": 2
 },
 "nbformat": 4,
 "nbformat_minor": 2
}
